{
	"cells": [{
		"metadata": {},
		"cell_type": "markdown",
		"source": "# Introduction to Python!"
	}, {
		"metadata": {},
		"cell_type": "markdown",
		"source": "## Basics"
	}, {
		"metadata": {},
		"cell_type": "markdown",
		"source": "### Functions"
	}, {
		"metadata": {},
		"cell_type": "markdown",
		"source": "Nested - inner most will be executed first.\n\n- print()\n- type()\n- abs()\n- max()\n- sorted()\n"
	}, {
		"metadata": {},
		"cell_type": "markdown",
		"source": "### Data Types"
	}, {
		"metadata": {},
		"cell_type": "markdown",
		"source": "Data types \n - type()\n \n| Data type | Example | Details |\n| :- | :- | :- |\n| Int | 5 | Integer |\n| Float | 2.555 | Floating point value |\n| String | 'Hello' | String |\n| Boolean | TRUE/FALSE | |\n| None |  |  |\n| Tuple |  | More details following|"
	}, {
		"metadata": {},
		"cell_type": "markdown",
		"source": "### Lists"
	}, {
		"metadata": {},
		"cell_type": "markdown",
		"source": "Definition: Ordered sequence of elements where elements are comma delimited\n\nProperties:\n- Ordered\n- Changeable\n- Allows dupes\n\nInfo:\n\n- The last index is length -1\n- Mixed_list = [5, “Hello”, True, 2.555]\n- Lists can be indexed - the first element is at position 0\n- Mixed_list[0] would give 5\n- List_name[-1] = last element in list\n- Slicing operations - range of elements\n- list_name [0:-1]\n\n- list_name.append(“Insert to end”)\n\n- list_name.insert(4, “Insert to index 4”)\n\n- list_name.remove(“Case sensitive element”)\n\n- sort() and reverse()\n\n- Concatenate lists by list_name1 + list_name2\n\n- clear() will empty the list\n\n- copy()\n\n- Del will delete the memory of a variable\n\n- Shallow copy when you assign (=) a list to a new variable meaning if you update the shallow copy the original list will update too due to the same in memory.\n\n"
	}, {
		"metadata": {},
		"cell_type": "markdown",
		"source": "### Tuples"
	}, {
		"metadata": {},
		"cell_type": "markdown",
		"source": "Definition: Ordered sequence of elements, BUT is immutable (elements can’t be modified)\n\nProperties:\n- Immutable\n- Ordered\n- Allows dupes"
	}, {
		"metadata": {},
		"cell_type": "markdown",
		"source": "Tuple can be a function\nCharacter_tuple = tuple(“bedsheet”) will make a tuple of each character comma delimited\n\nCan check for field in tuple\n“Apples” in fruit_tuple (works for lists too)\n \nCan also do not in\n"
	}, {
		"metadata": {
			"trusted": true
		},
		"cell_type": "code",
		"source": "tuple_name = (\"field1\",\"field2\")\nprint(tuple_name)\ntuple_name[0] #index start at 0\ntuple_name[0:2] #will only include the 1st 2 fields",
		"execution_count": 6,
		"outputs": [{
			"output_type": "stream",
			"text": "('field1', 'field2')\n",
			"name": "stdout"
		}, {
			"output_type": "execute_result",
			"execution_count": 6,
			"data": {
				"text/plain": "('field1', 'field2')"
			},
			"metadata": {}
		}]
	}, {
		"metadata": {},
		"cell_type": "markdown",
		"source": "### Dictionaries"
	}, {
		"metadata": {},
		"cell_type": "markdown",
		"source": "Defintion: Complex data type (dict) with key value pairs with no inherent order.\n\nProperties:\n- Ordered (as of 3.7)\n- Changeable\n- No dupes\n\n- Lookup tables use []\n- All keys by .keys() in form of list\n- .values() in form of list\n- .items() will give tuple of key value pairs separated by (),\n- Assignment operator to add new key value pair\n- Names_and_ages[“Hobbes”] = 25\n- .pop() to remove key value pair by inputting value\n- Can also use del names_and_ages[“Rowley”]\n- Values of dict can be a list\n- Occupations_and_names = {“Doctors” : [“Nina”,”Paul”]}\n- Occupations_and_names[“Doctors”][0]\n- Int_key_dict = {1, “Susie”} then int_key_dict[1] so use keys rather than indexes to lookup \n\n"
	}, {
		"metadata": {
			"trusted": true
		},
		"cell_type": "code",
		"source": "name_and_ages = {'Susie' : 6, 'Calvin' : 5}\nprint(name_and_ages)",
		"execution_count": 9,
		"outputs": [{
			"output_type": "stream",
			"text": "{'Susie': 6, 'Calvin': 5}\n",
			"name": "stdout"
		}]
	}, {
		"metadata": {},
		"cell_type": "markdown",
		"source": "### Classes"
	}, {
		"metadata": {},
		"cell_type": "markdown",
		"source": "Definition: Object constructor\n\nComponents: \n- Self: The self parameter is a reference to the current instance of the class, and is used to access variables that belong to that class instance. Has to be the first parameter of any function in the class.\n- Constructor: Setting properties of a class, \"__init__\"\n- Methods in objects (classes) are functions that belong to the object.\n"
	}, {
		"metadata": {
			"trusted": true
		},
		"cell_type": "code",
		"source": "class Person:\n  def __init__(self, name, age):\n    self.name = name\n    self.age = age\n    \n  def myfunc(self): #this is a method\n    print(\"Hello my name is \" + self.name)\n\np1 = Person(\"John\", 36) #Pass properties\n\nprint(p1.name)\nprint(p1.age)\np1.myfunc() #Call method\np1.age = 40 #Modify properties\nprint(p1.age)",
		"execution_count": 21,
		"outputs": [{
			"output_type": "stream",
			"text": "John\n36\nHello my name is John\n40\n",
			"name": "stdout"
		}]
	}, {
		"metadata": {},
		"cell_type": "markdown",
		"source": "### Defining Functions"
	}, {
		"metadata": {},
		"cell_type": "markdown",
		"source": "Components:\n\n- def: "
	}, {
		"metadata": {},
		"cell_type": "markdown",
		"source": "### RegEx"
	}, {
		"metadata": {},
		"cell_type": "markdown",
		"source": "Definition: Regular expressions for search patterns, similar to 'LIKE' in SQL using wildcards.\n\n- findall() function returns a list of all matches.\n\n| Character | Description | Example |\n| :- | :- | :- |\n| [] | Set of characters | \"[a-m]\" |\n| \\ | Special sequence or escape special characters | \"\\d\" |\n| . | Any character | \"he..o\" |\n| ^ | Starts with | \"^hello\" |\n| \\$ | Ends with | \"world\\$\" |\n| * | 0 or more occurrences | \"aix*\"|\n| + | 1 or more occurrences | \"aix+\"|\n| {} | Specified # of occurrences | \"al{2}\"|"
	}, {
		"metadata": {},
		"cell_type": "markdown",
		"source": "### Sets"
	}, {
		"metadata": {},
		"cell_type": "markdown",
		"source": "Definition: Collection of data which is both unordered and unindexed.\n\nProperties:\n- Unordered\n- Unchangeable (but can add new items)\n- No dupes\n- Any combination of data types"
	}, {
		"metadata": {
			"trusted": true
		},
		"cell_type": "code",
		"source": "thisset = {\"apple\", \"banana\"}\nprint(len(thisset)) #will show number of items\nprint(type(thisset)) #data type of set",
		"execution_count": 2,
		"outputs": [{
			"output_type": "stream",
			"text": "2\n\n",
			"name": "stdout"
		}]
	}, {
		"metadata": {},
		"cell_type": "markdown",
		"source": "### If....Else Conditional"
	}, {
		"metadata": {},
		"cell_type": "markdown",
		"source": "### Loops"
	}, {
		"metadata": {},
		"cell_type": "markdown",
		"source": "### Arrays"
	}, {
		"metadata": {},
		"cell_type": "markdown",
		"source": "### Iterators"
	}, {
		"metadata": {},
		"cell_type": "markdown",
		"source": "Definition: Object contains a countable number of values. Can traverse through all values.\n\nMethods: \n- iter() used to get an iterator\n- next__() return next item in sequence"
	}, {
		"metadata": {
			"trusted": true
		},
		"cell_type": "code",
		"source": "class MyNumbers:\n  def __iter__(self):\n    self.a = 1 #what does a represent here? constant?\n    return self\n\n  def __next__(self):\n    x = self.a #initalizing at 1 from iter()\n    self.a += 1\n    return x\n\nmyclass = MyNumbers()\nmyiter = iter(myclass)\n\nprint(next(myiter))\nprint(next(myiter))\nprint(next(myiter))\nprint(next(myiter))\nprint(next(myiter))",
		"execution_count": 14,
		"outputs": [{
			"output_type": "stream",
			"text": "1\n2\n3\n4\n5\n",
			"name": "stdout"
		}]
	}, {
		"metadata": {
			"trusted": true
		},
		"cell_type": "code",
		"source": "",
		"execution_count": null,
		"outputs": []
	}],
	"metadata": {
		"kernelspec": {
			"display_name": "Python 3",
			"language": "python",
			"name": "python3"
		},
		"language_info": {
			"codemirror_mode": {
				"name": "ipython",
				"version": 3
			},
			"file_extension": ".py",
			"mimetype": "text/x-python",
			"name": "python",
			"nbconvert_exporter": "python",
			"pygments_lexer": "ipython3",
			"version": "3.7.10"
		}
	},
	"nbformat": 4,
	"nbformat_minor": 5
}